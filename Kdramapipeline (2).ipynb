{
 "cells": [
  {
   "cell_type": "code",
   "execution_count": 1,
   "id": "9f7ff959-95bb-47a4-8e9d-5226ef2b9bf4",
   "metadata": {
    "tags": []
   },
   "outputs": [],
   "source": [
    "import pandas as pd\n",
    "import sqlite3"
   ]
  },
  {
   "cell_type": "code",
   "execution_count": 4,
   "id": "8826a0a6-75ab-4bf7-9af0-63968d46d1f0",
   "metadata": {
    "tags": []
   },
   "outputs": [],
   "source": [
    "#Extraction\n",
    "csv_file_path = \"~/Downloads/kdrama.csv\"\n",
    "df = pd.read_csv(csv_file_path)"
   ]
  },
  {
   "cell_type": "code",
   "execution_count": 3,
   "id": "b75834a8-777a-4e48-a568-493b9516f10c",
   "metadata": {
    "tags": []
   },
   "outputs": [
    {
     "name": "stdout",
     "output_type": "stream",
     "text": [
      "Sample of the K-drama dataset:\n",
      "   ID                        Title                                Genre  \\\n",
      "0   1               Move to Heaven                          Life, Drama   \n",
      "1   2           Weak Hero Class 1                  Action, Youth, Drama   \n",
      "2   3  Hospital Playlist Season 2         Romance, Life, Drama, Medical   \n",
      "3   4              Flower of Evil   Thriller, Romance, Crime, Melodrama   \n",
      "4   5           Hospital Playlist         Romance, Life, Drama, Medical   \n",
      "\n",
      "                                                Tags  \\\n",
      "0  Uncle-Nephew Relationship, Autism, Death, Sava...   \n",
      "1  Smart Male Lead, Bromance, School Bullying, Vi...   \n",
      "2  Multiple Mains, Band, Music, Strong Female Lea...   \n",
      "3  Deception, Family Secret, Mystery, Suspense, S...   \n",
      "4  Nice Male Lead, Multiple Mains, Slow Romance, ...   \n",
      "\n",
      "                                            Synopsis  Rank  Popularity  Score  \\\n",
      "0  Han Geu Roo is a 20-year-old with Autism. He w...     8          94    9.2   \n",
      "1  Yeon Shi Eun is a model student who ranks at t...    12         290    9.1   \n",
      "2  Everyday is extraordinary for five doctors and...    14         177    9.1   \n",
      "3  Although Baek Hee Sung is hiding a dark secret...    16          31    9.1   \n",
      "4  The stories of people going through their days...    17          51    9.1   \n",
      "\n",
      "   Episodes  Duration Watchers  Start_date   End_date            Day_aired  \\\n",
      "0        10        52   64,103   5/14/2021        NaN               Friday   \n",
      "1         8        40   32,415  11/18/2022        NaN               Friday   \n",
      "2        12       100   43,574   6/17/2021  9/16/2021             Thursday   \n",
      "3        16        70   94,811   7/29/2020  9/23/2020  Wednesday, Thursday   \n",
      "4        12        90   81,568   3/12/2020  5/28/2020             Thursday   \n",
      "\n",
      "                                           Main Role  \n",
      "0         Lee Je Hoon, Tang Jun Sang, Hong Seung Hee  \n",
      "1  Park Ji Hoon, Hong Kyung, Choi Hyun Wook, Kim ...  \n",
      "2  Jo Jung Suk, Jung Kyung Ho, Jeon Mi Do, Yoo Ye...  \n",
      "3  Lee Joon Gi, Jang Hee Jin, Moon Chae Won, Seo ...  \n",
      "4  Jo Jung Suk, Jung Kyung Ho, Jeon Mi Do, Yoo Ye...  \n"
     ]
    }
   ],
   "source": [
    "print(\"Sample of the K-drama dataset:\")\n",
    "print(df.head())"
   ]
  },
  {
   "cell_type": "code",
   "execution_count": 6,
   "id": "ddf19061-49c6-4448-b3bf-41a6e61e63b6",
   "metadata": {
    "tags": []
   },
   "outputs": [],
   "source": [
    "#Transform\n",
    "df['Watchers'] = pd.to_numeric(df['Watchers'], errors='coerce')"
   ]
  },
  {
   "cell_type": "code",
   "execution_count": 7,
   "id": "0bf822f1-14e3-49fb-8c49-e59cad6b8163",
   "metadata": {
    "tags": []
   },
   "outputs": [],
   "source": [
    "db_connection = sqlite3.connect(\"kdrama_database.db\")\n",
    "query_result = pd.read_sql_query(\"SELECT * FROM kdramas LIMIT 5;\", db_connection)\n",
    "db_connection.close()"
   ]
  },
  {
   "cell_type": "code",
   "execution_count": null,
   "id": "514fa20b-b7f9-484e-9f8f-469e4200f4c5",
   "metadata": {},
   "outputs": [],
   "source": [
    "print(\"\\nSample of the data loaded into SQLite:\")\n",
    "print(query_result)"
   ]
  }
 ],
 "metadata": {
  "kernelspec": {
   "display_name": "Python 3 (ipykernel)",
   "language": "python",
   "name": "python3"
  },
  "language_info": {
   "codemirror_mode": {
    "name": "ipython",
    "version": 3
   },
   "file_extension": ".py",
   "mimetype": "text/x-python",
   "name": "python",
   "nbconvert_exporter": "python",
   "pygments_lexer": "ipython3",
   "version": "3.11.5"
  }
 },
 "nbformat": 4,
 "nbformat_minor": 5
}
